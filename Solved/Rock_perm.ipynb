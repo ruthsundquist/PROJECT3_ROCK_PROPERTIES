{
 "cells": [
  {
   "cell_type": "code",
   "execution_count": 29,
   "metadata": {},
   "outputs": [],
   "source": [
    "from sklearn import tree\n",
    "import pandas as pd\n",
    "import numpy as np\n",
    "import os"
   ]
  },
  {
   "cell_type": "code",
   "execution_count": 30,
   "metadata": {
    "scrolled": true
   },
   "outputs": [
    {
     "data": {
      "text/html": [
       "<div>\n",
       "<style scoped>\n",
       "    .dataframe tbody tr th:only-of-type {\n",
       "        vertical-align: middle;\n",
       "    }\n",
       "\n",
       "    .dataframe tbody tr th {\n",
       "        vertical-align: top;\n",
       "    }\n",
       "\n",
       "    .dataframe thead th {\n",
       "        text-align: right;\n",
       "    }\n",
       "</style>\n",
       "<table border=\"1\" class=\"dataframe\">\n",
       "  <thead>\n",
       "    <tr style=\"text-align: right;\">\n",
       "      <th></th>\n",
       "      <th>Gross</th>\n",
       "      <th>Net</th>\n",
       "      <th>NettoGross</th>\n",
       "      <th>Av_Porosit</th>\n",
       "      <th>Sw</th>\n",
       "      <th>Av_Shc</th>\n",
       "      <th>Phih</th>\n",
       "      <th>SoPhi</th>\n",
       "      <th>SoPhih</th>\n",
       "      <th>Av_Permeab</th>\n",
       "    </tr>\n",
       "  </thead>\n",
       "  <tbody>\n",
       "    <tr>\n",
       "      <th>0</th>\n",
       "      <td>66.0</td>\n",
       "      <td>37.500</td>\n",
       "      <td>0.568</td>\n",
       "      <td>0.083</td>\n",
       "      <td>0.672</td>\n",
       "      <td>0.328</td>\n",
       "      <td>3.11</td>\n",
       "      <td>0.02722</td>\n",
       "      <td>1.020900</td>\n",
       "      <td>0.134</td>\n",
       "    </tr>\n",
       "    <tr>\n",
       "      <th>1</th>\n",
       "      <td>152.0</td>\n",
       "      <td>99.000</td>\n",
       "      <td>0.651</td>\n",
       "      <td>0.086</td>\n",
       "      <td>0.613</td>\n",
       "      <td>0.387</td>\n",
       "      <td>8.51</td>\n",
       "      <td>0.03328</td>\n",
       "      <td>3.294918</td>\n",
       "      <td>0.211</td>\n",
       "    </tr>\n",
       "    <tr>\n",
       "      <th>2</th>\n",
       "      <td>62.0</td>\n",
       "      <td>40.500</td>\n",
       "      <td>0.653</td>\n",
       "      <td>0.130</td>\n",
       "      <td>0.535</td>\n",
       "      <td>0.465</td>\n",
       "      <td>5.27</td>\n",
       "      <td>0.06045</td>\n",
       "      <td>2.448225</td>\n",
       "      <td>1.715</td>\n",
       "    </tr>\n",
       "    <tr>\n",
       "      <th>3</th>\n",
       "      <td>38.0</td>\n",
       "      <td>24.000</td>\n",
       "      <td>0.632</td>\n",
       "      <td>0.231</td>\n",
       "      <td>0.617</td>\n",
       "      <td>0.383</td>\n",
       "      <td>5.54</td>\n",
       "      <td>0.08847</td>\n",
       "      <td>2.123352</td>\n",
       "      <td>22.555</td>\n",
       "    </tr>\n",
       "    <tr>\n",
       "      <th>4</th>\n",
       "      <td>68.0</td>\n",
       "      <td>47.983</td>\n",
       "      <td>0.706</td>\n",
       "      <td>0.131</td>\n",
       "      <td>0.482</td>\n",
       "      <td>0.518</td>\n",
       "      <td>6.29</td>\n",
       "      <td>0.06786</td>\n",
       "      <td>3.256030</td>\n",
       "      <td>1.521</td>\n",
       "    </tr>\n",
       "  </tbody>\n",
       "</table>\n",
       "</div>"
      ],
      "text/plain": [
       "   Gross     Net  NettoGross  Av_Porosit     Sw  Av_Shc  Phih    SoPhi  \\\n",
       "0   66.0  37.500       0.568       0.083  0.672   0.328  3.11  0.02722   \n",
       "1  152.0  99.000       0.651       0.086  0.613   0.387  8.51  0.03328   \n",
       "2   62.0  40.500       0.653       0.130  0.535   0.465  5.27  0.06045   \n",
       "3   38.0  24.000       0.632       0.231  0.617   0.383  5.54  0.08847   \n",
       "4   68.0  47.983       0.706       0.131  0.482   0.518  6.29  0.06786   \n",
       "\n",
       "     SoPhih  Av_Permeab  \n",
       "0  1.020900       0.134  \n",
       "1  3.294918       0.211  \n",
       "2  2.448225       1.715  \n",
       "3  2.123352      22.555  \n",
       "4  3.256030       1.521  "
      ]
     },
     "execution_count": 30,
     "metadata": {},
     "output_type": "execute_result"
    }
   ],
   "source": [
    "df = pd.read_csv(os.path.join(\"..\", \"Resources\", \"RockProperties_perm.csv\"),encoding='iso-8859-1')\n",
    "df.head()"
   ]
  },
  {
   "cell_type": "code",
   "execution_count": 31,
   "metadata": {},
   "outputs": [],
   "source": [
    "X = df.iloc[:, 0:8].values #start-end columns prepare attributes and labels\n",
    "y = df.iloc[:, 9].values"
   ]
  },
  {
   "cell_type": "code",
   "execution_count": 32,
   "metadata": {},
   "outputs": [],
   "source": [
    "from sklearn.model_selection import train_test_split\n",
    "X_train, X_test, y_train, y_test = train_test_split(X, y, test_size=0.2,random_state=42)"
   ]
  },
  {
   "cell_type": "code",
   "execution_count": 33,
   "metadata": {},
   "outputs": [],
   "source": [
    "from sklearn.preprocessing import StandardScaler\n",
    "\n",
    "sc = StandardScaler()\n",
    "X_train = sc.fit_transform(X_train)\n",
    "X_test = sc.transform(X_test)"
   ]
  },
  {
   "cell_type": "code",
   "execution_count": 34,
   "metadata": {},
   "outputs": [
    {
     "name": "stdout",
     "output_type": "stream",
     "text": [
      "72\n",
      "72\n"
     ]
    }
   ],
   "source": [
    "from sklearn.ensemble import RandomForestRegressor  #solve regression\n",
    "rf = RandomForestRegressor(n_estimators=200, random_state =0)\n",
    "rf = rf.fit(X_train, y_train)\n",
    "rf.score(X_test, y_test)\n",
    "y_predict=rf.predict(X_test)  #this is prediction - test step\n",
    "print((y_predict.shape[0])) \n",
    "print((y_test.shape[0]))   "
   ]
  },
  {
   "cell_type": "code",
   "execution_count": 35,
   "metadata": {
    "scrolled": false
   },
   "outputs": [
    {
     "name": "stdout",
     "output_type": "stream",
     "text": [
      "Mean Absolute Error: 0.9476087499999988\n",
      "Mean Squared Error: 5.470195664390958\n",
      "Root Mean Squared Error: 2.338844942357436\n",
      "R2: 0.7229679900345183\n"
     ]
    }
   ],
   "source": [
    "from sklearn import metrics\n",
    "\n",
    "print('Mean Absolute Error:', metrics.mean_absolute_error(y_test, y_predict))\n",
    "print('Mean Squared Error:', metrics.mean_squared_error(y_test, y_predict))\n",
    "print('Root Mean Squared Error:', np.sqrt(metrics.mean_squared_error(y_test, y_predict)))\n",
    "print('R2:', rf.score(X_test, y_test))"
   ]
  },
  {
   "cell_type": "code",
   "execution_count": 23,
   "metadata": {},
   "outputs": [
    {
     "data": {
      "text/plain": [
       "([(27.128, 34.29140499999997),\n",
       "  (22.555, 24.169935000000006),\n",
       "  (12.755999999999998, 27.13948499999999),\n",
       "  (8.975, 10.60805500000001),\n",
       "  (8.091000000000001, 3.0834349999999984),\n",
       "  (6.615, 8.816644999999989),\n",
       "  (4.406000000000001, 8.772159999999994),\n",
       "  (3.7939999999999996, 9.493094999999983),\n",
       "  (3.42, 2.1302900000000013),\n",
       "  (3.275, 4.079399999999997),\n",
       "  (3.139, 8.880084999999985),\n",
       "  (2.314, 1.1317850000000016),\n",
       "  (2.065, 3.4033400000000014),\n",
       "  (1.8769999999999998, 1.0634049999999988),\n",
       "  (1.742, 1.8130700000000015),\n",
       "  (1.5619999999999998, 1.47726),\n",
       "  (1.541, 1.5063600000000008),\n",
       "  (1.4069999999999998, 1.8576749999999984),\n",
       "  (1.354, 1.0765900000000008),\n",
       "  (1.345, 1.7055400000000005),\n",
       "  (1.2930000000000001, 2.9602399999999953),\n",
       "  (1.135, 1.9936550000000008),\n",
       "  (1.11, 0.6861999999999998),\n",
       "  (1.101, 0.9383599999999999),\n",
       "  (1.03, 0.9241650000000002),\n",
       "  (0.968, 0.8478650000000003),\n",
       "  (0.912, 0.9167949999999995),\n",
       "  (0.899, 1.2967550000000003),\n",
       "  (0.894, 0.8918100000000005),\n",
       "  (0.81, 0.2615699999999999),\n",
       "  (0.77, 0.8751350000000008),\n",
       "  (0.7559999999999999, 1.1612999999999998),\n",
       "  (0.703, 1.9120200000000023),\n",
       "  (0.664, 1.4245800000000002),\n",
       "  (0.648, 0.5960100000000004),\n",
       "  (0.609, 0.7986549999999998),\n",
       "  (0.5820000000000001, 1.5353899999999998),\n",
       "  (0.5770000000000001, 0.5083700000000005),\n",
       "  (0.561, 1.0183349999999995),\n",
       "  (0.516, 1.1931449999999988),\n",
       "  (0.486, 0.6784600000000005),\n",
       "  (0.456, 0.8794349999999982),\n",
       "  (0.456, 0.518255),\n",
       "  (0.43200000000000005, 0.31676999999999983),\n",
       "  (0.425, 0.6205949999999996),\n",
       "  (0.419, 0.4280650000000001),\n",
       "  (0.40399999999999997, 0.4560149999999995),\n",
       "  (0.34600000000000003, 0.26261499999999993),\n",
       "  (0.33399999999999996, 0.7705600000000006),\n",
       "  (0.332, 0.4294299999999997),\n",
       "  (0.32899999999999996, 0.48985999999999974),\n",
       "  (0.31, 0.26468000000000025),\n",
       "  (0.304, 0.7097300000000007),\n",
       "  (0.27399999999999997, 0.197015),\n",
       "  (0.258, 0.5044800000000006),\n",
       "  (0.24, 0.27437000000000006),\n",
       "  (0.23600000000000002, 0.5191099999999995),\n",
       "  (0.20199999999999999, 0.24390500000000015),\n",
       "  (0.192, 0.41429499999999975),\n",
       "  (0.14800000000000002, 0.1730649999999999),\n",
       "  (0.136, 0.2934499999999999),\n",
       "  (0.10300000000000001, 0.7051100000000002),\n",
       "  (0.098, 0.2008700000000001),\n",
       "  (0.09300000000000001, 0.1266699999999999),\n",
       "  (0.085, 0.10156499999999997),\n",
       "  (0.075, 0.13042499999999999),\n",
       "  (0.059000000000000004, 0.06583999999999994),\n",
       "  (0.057999999999999996, 0.14955),\n",
       "  (0.035, 0.10565999999999995),\n",
       "  (0.03, 0.22121500000000027),\n",
       "  (0.026000000000000002, 0.027134999999999968),\n",
       "  (0.021, 0.022369999999999987)],)"
      ]
     },
     "execution_count": 23,
     "metadata": {},
     "output_type": "execute_result"
    }
   ],
   "source": [
    "sorted(zip(y_test, y_predict), reverse=True),"
   ]
  },
  {
   "cell_type": "code",
   "execution_count": 15,
   "metadata": {},
   "outputs": [],
   "source": [
    "#df.to_csv(index=False)"
   ]
  }
 ],
 "metadata": {
  "kernelspec": {
   "display_name": "Python 3",
   "language": "python",
   "name": "python3"
  },
  "language_info": {
   "codemirror_mode": {
    "name": "ipython",
    "version": 3
   },
   "file_extension": ".py",
   "mimetype": "text/x-python",
   "name": "python",
   "nbconvert_exporter": "python",
   "pygments_lexer": "ipython3",
   "version": "3.7.3"
  },
  "varInspector": {
   "cols": {
    "lenName": 16,
    "lenType": 16,
    "lenVar": 40
   },
   "kernels_config": {
    "python": {
     "delete_cmd_postfix": "",
     "delete_cmd_prefix": "del ",
     "library": "var_list.py",
     "varRefreshCmd": "print(var_dic_list())"
    },
    "r": {
     "delete_cmd_postfix": ") ",
     "delete_cmd_prefix": "rm(",
     "library": "var_list.r",
     "varRefreshCmd": "cat(var_dic_list()) "
    }
   },
   "types_to_exclude": [
    "module",
    "function",
    "builtin_function_or_method",
    "instance",
    "_Feature"
   ],
   "window_display": false
  }
 },
 "nbformat": 4,
 "nbformat_minor": 2
}
