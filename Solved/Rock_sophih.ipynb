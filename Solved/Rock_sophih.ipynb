{
 "cells": [
  {
   "cell_type": "code",
   "execution_count": 17,
   "metadata": {},
   "outputs": [],
   "source": [
    "from sklearn import tree\n",
    "import pandas as pd\n",
    "import numpy as np\n",
    "import os"
   ]
  },
  {
   "cell_type": "code",
   "execution_count": 18,
   "metadata": {
    "scrolled": true
   },
   "outputs": [
    {
     "data": {
      "text/html": [
       "<div>\n",
       "<style scoped>\n",
       "    .dataframe tbody tr th:only-of-type {\n",
       "        vertical-align: middle;\n",
       "    }\n",
       "\n",
       "    .dataframe tbody tr th {\n",
       "        vertical-align: top;\n",
       "    }\n",
       "\n",
       "    .dataframe thead th {\n",
       "        text-align: right;\n",
       "    }\n",
       "</style>\n",
       "<table border=\"1\" class=\"dataframe\">\n",
       "  <thead>\n",
       "    <tr style=\"text-align: right;\">\n",
       "      <th></th>\n",
       "      <th>Gross</th>\n",
       "      <th>Net</th>\n",
       "      <th>NettoGross</th>\n",
       "      <th>Av_Porosit</th>\n",
       "      <th>Sw</th>\n",
       "      <th>Av_Shc</th>\n",
       "      <th>Phih</th>\n",
       "      <th>SoPhi</th>\n",
       "      <th>Av_Permeab</th>\n",
       "      <th>SoPhih</th>\n",
       "    </tr>\n",
       "  </thead>\n",
       "  <tbody>\n",
       "    <tr>\n",
       "      <th>0</th>\n",
       "      <td>66.0</td>\n",
       "      <td>37.500</td>\n",
       "      <td>0.568</td>\n",
       "      <td>0.083</td>\n",
       "      <td>0.672</td>\n",
       "      <td>0.328</td>\n",
       "      <td>3.11</td>\n",
       "      <td>0.02722</td>\n",
       "      <td>0.134</td>\n",
       "      <td>1.020900</td>\n",
       "    </tr>\n",
       "    <tr>\n",
       "      <th>1</th>\n",
       "      <td>152.0</td>\n",
       "      <td>99.000</td>\n",
       "      <td>0.651</td>\n",
       "      <td>0.086</td>\n",
       "      <td>0.613</td>\n",
       "      <td>0.387</td>\n",
       "      <td>8.51</td>\n",
       "      <td>0.03328</td>\n",
       "      <td>0.211</td>\n",
       "      <td>3.294918</td>\n",
       "    </tr>\n",
       "    <tr>\n",
       "      <th>2</th>\n",
       "      <td>62.0</td>\n",
       "      <td>40.500</td>\n",
       "      <td>0.653</td>\n",
       "      <td>0.130</td>\n",
       "      <td>0.535</td>\n",
       "      <td>0.465</td>\n",
       "      <td>5.27</td>\n",
       "      <td>0.06045</td>\n",
       "      <td>1.715</td>\n",
       "      <td>2.448225</td>\n",
       "    </tr>\n",
       "    <tr>\n",
       "      <th>3</th>\n",
       "      <td>38.0</td>\n",
       "      <td>24.000</td>\n",
       "      <td>0.632</td>\n",
       "      <td>0.231</td>\n",
       "      <td>0.617</td>\n",
       "      <td>0.383</td>\n",
       "      <td>5.54</td>\n",
       "      <td>0.08847</td>\n",
       "      <td>22.555</td>\n",
       "      <td>2.123352</td>\n",
       "    </tr>\n",
       "    <tr>\n",
       "      <th>4</th>\n",
       "      <td>68.0</td>\n",
       "      <td>47.983</td>\n",
       "      <td>0.706</td>\n",
       "      <td>0.131</td>\n",
       "      <td>0.482</td>\n",
       "      <td>0.518</td>\n",
       "      <td>6.29</td>\n",
       "      <td>0.06786</td>\n",
       "      <td>1.521</td>\n",
       "      <td>3.256030</td>\n",
       "    </tr>\n",
       "  </tbody>\n",
       "</table>\n",
       "</div>"
      ],
      "text/plain": [
       "   Gross     Net  NettoGross  Av_Porosit     Sw  Av_Shc  Phih    SoPhi  \\\n",
       "0   66.0  37.500       0.568       0.083  0.672   0.328  3.11  0.02722   \n",
       "1  152.0  99.000       0.651       0.086  0.613   0.387  8.51  0.03328   \n",
       "2   62.0  40.500       0.653       0.130  0.535   0.465  5.27  0.06045   \n",
       "3   38.0  24.000       0.632       0.231  0.617   0.383  5.54  0.08847   \n",
       "4   68.0  47.983       0.706       0.131  0.482   0.518  6.29  0.06786   \n",
       "\n",
       "   Av_Permeab    SoPhih  \n",
       "0       0.134  1.020900  \n",
       "1       0.211  3.294918  \n",
       "2       1.715  2.448225  \n",
       "3      22.555  2.123352  \n",
       "4       1.521  3.256030  "
      ]
     },
     "execution_count": 18,
     "metadata": {},
     "output_type": "execute_result"
    }
   ],
   "source": [
    "df = pd.read_csv(os.path.join(\"..\", \"Resources\", \"RockProperties_sophih.csv\"),encoding='iso-8859-1')\n",
    "df.head()"
   ]
  },
  {
   "cell_type": "code",
   "execution_count": 19,
   "metadata": {},
   "outputs": [],
   "source": [
    "X = df.iloc[:, 0:8].values #start-end columns prepare attributes and labels\n",
    "y = df.iloc[:, 9].values"
   ]
  },
  {
   "cell_type": "code",
   "execution_count": 20,
   "metadata": {},
   "outputs": [],
   "source": [
    "from sklearn.model_selection import train_test_split\n",
    "X_train, X_test, y_train, y_test = train_test_split(X, y, test_size=0.2,random_state=42)"
   ]
  },
  {
   "cell_type": "code",
   "execution_count": 21,
   "metadata": {},
   "outputs": [],
   "source": [
    "from sklearn.preprocessing import StandardScaler\n",
    "\n",
    "sc = StandardScaler()\n",
    "X_train = sc.fit_transform(X_train)\n",
    "X_test = sc.transform(X_test)"
   ]
  },
  {
   "cell_type": "code",
   "execution_count": 22,
   "metadata": {},
   "outputs": [
    {
     "name": "stdout",
     "output_type": "stream",
     "text": [
      "72\n",
      "72\n"
     ]
    }
   ],
   "source": [
    "from sklearn.ensemble import RandomForestRegressor  #solve regression\n",
    "rf = RandomForestRegressor(n_estimators=200, random_state =0)\n",
    "rf = rf.fit(X_train, y_train)\n",
    "rf.score(X_test, y_test)\n",
    "y_predict=rf.predict(X_test)  \n",
    "print((y_predict.shape[0]))  \n",
    "print((y_test.shape[0]))   "
   ]
  },
  {
   "cell_type": "code",
   "execution_count": 23,
   "metadata": {
    "scrolled": true
   },
   "outputs": [
    {
     "name": "stdout",
     "output_type": "stream",
     "text": [
      "Mean Absolute Error: 0.1438303258576391\n",
      "Mean Squared Error: 0.04862012425719817\n",
      "Root Mean Squared Error: 0.22049971486874576\n",
      "R2: 0.994842309760111\n"
     ]
    }
   ],
   "source": [
    "from sklearn import metrics\n",
    "\n",
    "print('Mean Absolute Error:', metrics.mean_absolute_error(y_test, y_predict))\n",
    "print('Mean Squared Error:', metrics.mean_squared_error(y_test, y_predict))\n",
    "print('Root Mean Squared Error:', np.sqrt(metrics.mean_squared_error(y_test, y_predict)))\n",
    "print('R2:', rf.score(X_test, y_test))"
   ]
  },
  {
   "cell_type": "code",
   "execution_count": 16,
   "metadata": {},
   "outputs": [
    {
     "data": {
      "text/plain": [
       "[(13.584384, 14.140472712550006, 0.377),\n",
       " (12.37687014, 12.854379977950005, 0.418),\n",
       " (11.76143733, 12.448519594049985, 0.49200000000000005),\n",
       " (10.459596000000001, 10.212614215560006, 0.428),\n",
       " (10.42759778, 10.516628522789999, 0.386),\n",
       " (10.19958863, 10.274886810489996, 0.461),\n",
       " (8.241084623999999, 7.401573529764991, 0.38299999999999995),\n",
       " (8.025836, 7.887501911764986, 0.52),\n",
       " (7.729756008, 7.615193069115005, 0.44299999999999995),\n",
       " (7.5068175, 7.104766368294999, 0.511),\n",
       " (7.438086495, 7.417711924239992, 0.434),\n",
       " (6.669891000000001, 6.956731074745001, 0.401),\n",
       " (5.876562, 6.150711384250009, 0.306),\n",
       " (5.809736448, 6.410766051754996, 0.66),\n",
       " (5.801386066, 5.620405934850001, 0.5660000000000001),\n",
       " (5.735788875, 5.79031783083, 0.485),\n",
       " (5.66783, 5.632753577580005, 0.418),\n",
       " (5.64705, 5.632300169220005, 0.32799999999999996),\n",
       " (5.130216000000001, 5.370500570010008, 0.344),\n",
       " (5.124971592, 4.945150452934999, 0.396),\n",
       " (4.774176000000001, 4.7692891503299935, 0.44799999999999995),\n",
       " (4.5517715, 4.694806664270003, 0.397),\n",
       " (4.40785, 4.613990936705001, 0.451),\n",
       " (4.183432499999999, 4.245970741899999, 0.316),\n",
       " (4.04211108, 4.0151013266200035, 0.37799999999999995),\n",
       " (3.9822300000000004, 4.037623035759999, 0.647),\n",
       " (3.872922, 3.5478536480850016, 0.526),\n",
       " (3.7391199999999998, 3.548670741990003, 0.46),\n",
       " (3.679578, 4.075116362890001, 0.445),\n",
       " (3.62933055, 3.716533684629994, 0.5710000000000001),\n",
       " (3.524719824, 3.2158245089400013, 0.43799999999999994),\n",
       " (3.4519519999999995, 3.495657781339999, 0.518),\n",
       " (3.340908, 3.573284488530005, 0.461),\n",
       " (3.314064, 3.435192421770001, 0.389),\n",
       " (3.2281965, 3.254248881014996, 0.39799999999999996),\n",
       " (3.1603950000000003, 3.1657229686900052, 0.47700000000000004),\n",
       " (3.037516, 2.9292958233450026, 0.61),\n",
       " (2.9643565, 2.7981797167350044, 0.434),\n",
       " (2.940555, 2.8945056361499946, 0.499),\n",
       " (2.80807461, 2.6893844779149982, 0.324),\n",
       " (2.50432, 2.8455215218000007, 0.414),\n",
       " (2.494002, 2.4668774518499954, 0.387),\n",
       " (2.27696, 2.361023099959993, 0.43),\n",
       " (2.123352, 2.2063718647700017, 0.518),\n",
       " (2.0735528000000003, 2.013678527925001, 0.523),\n",
       " (2.051984, 2.0070498035450015, 0.49200000000000005),\n",
       " (1.9400377919999998, 1.9708812899050006, 0.516),\n",
       " (1.785168, 1.7826328878199995, 0.47100000000000003),\n",
       " (1.713835264, 1.7668619129399994, 0.39799999999999996),\n",
       " (1.70063712, 1.5572616334799994, 0.6409999999999999),\n",
       " (1.667643138, 1.7022062467849997, 0.45299999999999996),\n",
       " (1.664985, 1.6827669024249987, 0.38299999999999995),\n",
       " (1.6493895, 1.6729581898100008, 0.409),\n",
       " (1.61480088, 1.6352311132450004, 0.613),\n",
       " (1.564735341, 1.4971160659099987, 0.5529999999999999),\n",
       " (1.5258200000000002, 1.5800509103750002, 0.385),\n",
       " (1.501423, 1.5512601531099985, 0.483),\n",
       " (1.4957475, 1.4890130676666657, 0.428),\n",
       " (1.3635, 1.3026354641999982, 0.373),\n",
       " (1.231546275, 1.1701188951999981, 0.46799999999999997),\n",
       " (1.1094, 1.2529082409749976, 0.47100000000000003),\n",
       " (1.062075, 1.039697328449999, 0.385),\n",
       " (1.0504122120000001, 1.1733236455999971, 0.606),\n",
       " (1.0373276, 1.1320264907499988, 0.387),\n",
       " (0.9744, 0.8450879362866678, 0.368),\n",
       " (0.9601493440000001, 0.9553086964699996, 0.503),\n",
       " (0.6350399999999999, 0.601889512101666, 0.33799999999999997),\n",
       " (0.616448, 0.7038974479399986, 0.465),\n",
       " (0.5049899999999999, 0.4600440501866669, 0.633),\n",
       " (0.48539399999999994, 0.5625058037066657, 0.525),\n",
       " (0.264384, 0.37494754775999956, 0.436),\n",
       " (0.261, 0.23131395249999995, 0.331)]"
      ]
     },
     "execution_count": 16,
     "metadata": {},
     "output_type": "execute_result"
    }
   ],
   "source": [
    "sorted(zip(y_test, y_predict,df.Av_Shc), reverse=True)"
   ]
  },
  {
   "cell_type": "code",
   "execution_count": null,
   "metadata": {},
   "outputs": [],
   "source": []
  }
 ],
 "metadata": {
  "kernelspec": {
   "display_name": "Python 3",
   "language": "python",
   "name": "python3"
  },
  "language_info": {
   "codemirror_mode": {
    "name": "ipython",
    "version": 3
   },
   "file_extension": ".py",
   "mimetype": "text/x-python",
   "name": "python",
   "nbconvert_exporter": "python",
   "pygments_lexer": "ipython3",
   "version": "3.7.3"
  },
  "varInspector": {
   "cols": {
    "lenName": 16,
    "lenType": 16,
    "lenVar": 40
   },
   "kernels_config": {
    "python": {
     "delete_cmd_postfix": "",
     "delete_cmd_prefix": "del ",
     "library": "var_list.py",
     "varRefreshCmd": "print(var_dic_list())"
    },
    "r": {
     "delete_cmd_postfix": ") ",
     "delete_cmd_prefix": "rm(",
     "library": "var_list.r",
     "varRefreshCmd": "cat(var_dic_list()) "
    }
   },
   "types_to_exclude": [
    "module",
    "function",
    "builtin_function_or_method",
    "instance",
    "_Feature"
   ],
   "window_display": false
  }
 },
 "nbformat": 4,
 "nbformat_minor": 2
}
